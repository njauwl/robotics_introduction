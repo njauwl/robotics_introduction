{
 "cells": [
  {
   "cell_type": "markdown",
   "id": "cfee8d2c",
   "metadata": {},
   "source": [
    "# 绪论\n",
    "这里是机器人技术的学习总结和简要介绍"
   ]
  },
  {
   "cell_type": "markdown",
   "id": "3a1de941",
   "metadata": {},
   "source": [
    "## 应用场景\n",
    "自动驾驶，无人外卖车，送餐机器人，扫地机器人"
   ]
  },
  {
   "cell_type": "markdown",
   "id": "8caeb12b",
   "metadata": {},
   "source": [
    "## 技术参考\n",
    "\n",
    "Probabilistic Robotics2006:http://www.probabilistic-robotics.org/ ,虽然该书出版时间较久远，但是里面的基本知识介绍很详细，并且有算法的伪代码，是很多机器人应用库的基础\n",
    "\n",
    "PythonRobotics2018 :https://atsushisakai.github.io/PythonRobotics/index.html  python实现了大多数算法，根据代码可以更好理解算法"
   ]
  },
  {
   "cell_type": "markdown",
   "id": "4f5950dc",
   "metadata": {},
   "source": [
    "## 定位Localization\n",
    "### 传感器\n",
    "机器人要运动完成任务，就必要通过传感器知道自己的位置和姿态。常用位置传感器有GPS、INS、毫米波雷达、激光雷达、摄像头；姿态传感器有速度传感器、陀螺仪等。\n",
    "\n",
    "### 卡尔曼滤波\n",
    "机器人根据指令的运动模型有误差，传感器的测量有误差，随着时间的积累，误差会越来越来，这就需要通过卡尔曼滤波不断修正误差，卡尔曼滤波根据贝叶斯概率估计输出测量结果和模型计算结果的中间某数值，从而得到机器人的位置和姿态。\n",
    "\n",
    "卡尔曼滤波器只能处理线性问题，而实际世界中多位非线性问题，所以实际应用中需要将局部非线性问题转换为线性问题，这就是Extended Kalman filter (EKF)，但这却增加了问题处理的复杂度，更好的方法是直接处理非线性问题如Unscented Kalman Filter（UKF）或者Particle Filters\n",
    "\n",
    "卡尔曼滤波可以通过加入多个传感器的观测值和误差范围，从而使机器人利用多传感器数据，做到多传感器数据融合。\n",
    "\n",
    "卡尔曼滤波技术参考：https://github.com/rlabbe/Kalman-and-Bayesian-Filters-in-Python"
   ]
  },
  {
   "cell_type": "markdown",
   "id": "4b0bf764",
   "metadata": {},
   "source": [
    "## 地图Mapping\n",
    "实际世界中，机器人一开始是不知道工作的环境地图，如新买来的打地机器人，所以机器人就需要创建地图。\n",
    "\n",
    "### Occupancy Grid Mapping\n",
    "\n",
    "一个Occupancy Grid Mapping的例子，简单易懂: https://gist.github.com/superjax/33151f018407244cb61402e094099c1d\n",
    "\n",
    "###  Grid Mapping\n",
    "开源库： https://github.com/ANYbotics/grid_map 简介摘录：This is a C++ library with ROS interface to manage two-dimensional grid maps with multiple data layers. It is designed for mobile robotic mapping to store data such as elevation, variance, color, friction coefficient, foothold quality, surface normal, traversability etc. It is used in the Robot-Centric Elevation Mapping package designed for rough terrain navigation.\n",
    "\n"
   ]
  },
  {
   "cell_type": "markdown",
   "id": "3433eeec",
   "metadata": {},
   "source": [
    "##  SLAM\n",
    "有时机器人需要一边工作一边创建地图，或者由于误差需要同时更新自身的定位和地图，这就是SLAM的内容。在Localization一段中，卡尔曼滤波设计的中间变量有运动模型的位置和姿态变量，传感器对自身的观测变量，在SLAM中，加入机器人对地图中的LandMark的观测变量到卡尔曼滤波器中，就会使得机器人的位置和姿态、地图得到同时更新。\n",
    "\n",
    "- offline \n",
    "GraphSLAM \n",
    "\n"
   ]
  },
  {
   "cell_type": "code",
   "execution_count": null,
   "id": "54bbfe62",
   "metadata": {},
   "outputs": [],
   "source": []
  }
 ],
 "metadata": {
  "kernelspec": {
   "display_name": "Python 3 (ipykernel)",
   "language": "python",
   "name": "python3"
  },
  "language_info": {
   "codemirror_mode": {
    "name": "ipython",
    "version": 3
   },
   "file_extension": ".py",
   "mimetype": "text/x-python",
   "name": "python",
   "nbconvert_exporter": "python",
   "pygments_lexer": "ipython3",
   "version": "3.7.12"
  }
 },
 "nbformat": 4,
 "nbformat_minor": 5
}
